{
 "cells": [
  {
   "cell_type": "code",
   "execution_count": 2,
   "metadata": {},
   "outputs": [
    {
     "data": {
      "text/plain": [
       "{1: {'elastic': 0.1111111111111111, 'q': 45},\n",
       " 2: {'elastic': 0.25, 'q': 40},\n",
       " 3: {'elastic': 0.42857142857142855, 'q': 35},\n",
       " 4: {'elastic': 0.6666666666666666, 'q': 30},\n",
       " 5: {'elastic': 1.0, 'q': 25},\n",
       " 6: {'elastic': 1.5, 'q': 20},\n",
       " 7: {'elastic': 2.3333333333333335, 'q': 15},\n",
       " 8: {'elastic': 4.0, 'q': 10},\n",
       " 9: {'elastic': 9.0, 'q': 5}}"
      ]
     },
     "execution_count": 2,
     "metadata": {},
     "output_type": "execute_result"
    }
   ],
   "source": [
    "\n",
    "def changePrecantage(x , y):\n",
    "    return abs(x - y) / x\n",
    "\n",
    "prices = {}\n",
    "for i in range(1,10):\n",
    "    q = 50 - 5 * i\n",
    "    next_q = q - 5\n",
    "    elastic = changePrecantage(q, next_q) / changePrecantage(i,i+1)\n",
    "    prices[i] = {'elastic': elastic, 'q': q}\n",
    "prices"
   ]
  },
  {
   "cell_type": "code",
   "execution_count": null,
   "metadata": {},
   "outputs": [],
   "source": []
  }
 ],
 "metadata": {
  "interpreter": {
   "hash": "40d3a090f54c6569ab1632332b64b2c03c39dcf918b08424e98f38b5ae0af88f"
  },
  "kernelspec": {
   "display_name": "Python 3.8.8 ('base')",
   "language": "python",
   "name": "python3"
  },
  "language_info": {
   "codemirror_mode": {
    "name": "ipython",
    "version": 3
   },
   "file_extension": ".py",
   "mimetype": "text/x-python",
   "name": "python",
   "nbconvert_exporter": "python",
   "pygments_lexer": "ipython3",
   "version": "3.8.8"
  },
  "orig_nbformat": 4
 },
 "nbformat": 4,
 "nbformat_minor": 2
}
